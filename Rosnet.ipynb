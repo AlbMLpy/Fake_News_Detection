{
 "cells": [
  {
   "cell_type": "code",
   "execution_count": 1,
   "metadata": {},
   "outputs": [
    {
     "name": "stdout",
     "output_type": "stream",
     "text": [
      "Using cuda device\n"
     ]
    }
   ],
   "source": [
    "import numpy as np\n",
    "import pandas as pd\n",
    "from scipy.sparse import load_npz\n",
    "\n",
    "from sklearn.decomposition import NMF\n",
    "import matplotlib.pyplot as plt\n",
    "\n",
    "import xgboost as xgb\n",
    "\n",
    "from sklearn.model_selection import train_test_split\n",
    "from sklearn.metrics import f1_score, precision_score, recall_score, accuracy_score\n",
    "\n",
    "import CP_ALS3 as cp\n",
    "from general_functions import sqrt_err_relative\n",
    "\n",
    "import torch\n",
    "from torch import nn\n",
    "from torch.utils.data import DataLoader, Dataset\n",
    "\n",
    "device = \"cuda\" if torch.cuda.is_available() else \"cpu\"\n",
    "print(f\"Using {device} device\")\n",
    "\n",
    "import warnings\n",
    "warnings.filterwarnings('ignore')\n",
    "\n",
    "\n",
    "def print_scores(y, y_pred):\n",
    "    ps = precision_score(y, y_pred)\n",
    "    rs = recall_score(y, y_pred)\n",
    "    f1s = f1_score(y, y_pred)\n",
    "    accs = accuracy_score(y, y_pred)\n",
    "    print(f\"Precision: {ps};\\nRecall: {rs};\\nF1: {f1s};\\nAccuracy: {accs}\")\n",
    "    return ps, rs, f1s, accs\n",
    "\n",
    "def construct_nuc_tensor(U, C):\n",
    "    u_data = U.data\n",
    "    u_indptr = U.indptr\n",
    "    u_indices = U.indices\n",
    "\n",
    "    c_data = C.data\n",
    "    c_indptr = C.indptr\n",
    "    c_indices = C.indices\n",
    "\n",
    "    t_i = []\n",
    "    t_j = []\n",
    "    t_k = []\n",
    "    t_v = []\n",
    "    for i in range(n_news):\n",
    "        u_val = u_data[u_indptr[i]:u_indptr[i + 1]]\n",
    "        u_col = u_indices[u_indptr[i]:u_indptr[i + 1]]\n",
    "        for p, j in enumerate(u_col):\n",
    "            c_val = c_data[c_indptr[j]:c_indptr[j + 1]]\n",
    "            c_col = c_indices[c_indptr[j]:c_indptr[j + 1]]\n",
    "            for q, k in enumerate(c_col):\n",
    "                t_v.append(u_val[p] * c_val[q])\n",
    "                t_i.append(i)\n",
    "                t_j.append(j)\n",
    "                t_k.append(k)\n",
    "    \n",
    "    t_vals = np.array(t_v)\n",
    "\n",
    "    t_coords = np.empty(shape=(len(t_vals), 3), dtype=int)\n",
    "    t_coords[:, 0] = t_i\n",
    "    t_coords[:, 1] = t_j\n",
    "    t_coords[:, 2] = t_k\n",
    "\n",
    "    return t_vals, t_coords"
   ]
  },
  {
   "cell_type": "markdown",
   "metadata": {},
   "source": [
    "# **BuzzFeed Dataset:**"
   ]
  },
  {
   "cell_type": "markdown",
   "metadata": {},
   "source": [
    "## Load the data:"
   ]
  },
  {
   "cell_type": "code",
   "execution_count": 2,
   "metadata": {},
   "outputs": [],
   "source": [
    "N = load_npz('prep_data/N_bf.npz')\n",
    "U = load_npz('prep_data/U_bf.npz')\n",
    "C = load_npz('prep_data/C_bf.npz')\n",
    "y_labels = np.load('prep_data/labels_bf.npz')['arr_0']\n",
    "\n",
    "n_news, n_users, n_communities = *U.shape, C.shape[1]"
   ]
  },
  {
   "cell_type": "markdown",
   "metadata": {},
   "source": [
    "## Construct Tensor: News-User-Community:"
   ]
  },
  {
   "cell_type": "code",
   "execution_count": 3,
   "metadata": {},
   "outputs": [
    {
     "name": "stdout",
     "output_type": "stream",
     "text": [
      "KG shape (news_articles, users, communities): (182, 15257, 81);\n",
      "The number of nonzeros: 22779;\n"
     ]
    }
   ],
   "source": [
    "values, coords = construct_nuc_tensor(U, C)\n",
    "data_shape = n_news, n_users, n_communities\n",
    "print(f\"KG shape (news_articles, users, communities): {data_shape};\\nThe number of nonzeros: {values.shape[0]};\")"
   ]
  },
  {
   "cell_type": "markdown",
   "metadata": {},
   "source": [
    "## **CMTF Decomposition (divided):**"
   ]
  },
  {
   "cell_type": "markdown",
   "metadata": {},
   "source": [
    "### *CP Decomposition:*"
   ]
  },
  {
   "cell_type": "code",
   "execution_count": 4,
   "metadata": {},
   "outputs": [],
   "source": [
    "# for jit/numba!\n",
    "cp.cp_als3(coords[:5], values[:5], data_shape);"
   ]
  },
  {
   "cell_type": "code",
   "execution_count": 5,
   "metadata": {},
   "outputs": [
    {
     "name": "stdout",
     "output_type": "stream",
     "text": [
      "Iter:  1 ; Error:  0.3933223232729738\n",
      "Iter:  2 ; Error:  0.03925336480935282\n",
      "Iter:  3 ; Error:  0.03314904050809587\n",
      "Iter:  4 ; Error:  0.031307915335348345\n",
      "Iter:  5 ; Error:  0.030114551446890372\n",
      "Iter:  6 ; Error:  0.02923945284546199\n",
      "Iter:  7 ; Error:  0.028574339347045674\n",
      "Iter:  8 ; Error:  0.028041682142023357\n",
      "Iter:  9 ; Error:  0.02779509843699052\n",
      "Iter:  10 ; Error:  0.027670439347604187\n",
      "iterations over\n",
      "Relative error = 0.027670439347604187, 0, 0, 0\n",
      "CPU times: user 11min 32s, sys: 28min 3s, total: 39min 35s\n",
      "Wall time: 2min 36s\n"
     ]
    }
   ],
   "source": [
    "%%time\n",
    "\n",
    "max_iter = 10 \n",
    "rank = 50 \n",
    "l2 =  0.5\n",
    "lr = 1e-3\n",
    "seed = 13 \n",
    "\n",
    "a, b, c, err_arr, it = cp.cp_als3(\n",
    "    coords, values, data_shape,\n",
    "    rank=rank,\n",
    "    l2=l2,\n",
    "    max_iter=max_iter,\n",
    "    seed=seed,\n",
    "    show_iter=True,\n",
    "    it_over=True,\n",
    ")\n",
    "\n",
    "rerr = sqrt_err_relative(\n",
    "    coords, values, data_shape, a, b, c,\n",
    ")\n",
    "print(f\"Relative error = {rerr}, {(np.isnan(a)).sum()}, {(np.isnan(b)).sum()}, {(np.isnan(c)).sum()}\")"
   ]
  },
  {
   "cell_type": "code",
   "execution_count": 6,
   "metadata": {},
   "outputs": [
    {
     "data": {
      "image/png": "[encoded data removed]",
      "text/plain": [
       "<Figure size 576x432 with 1 Axes>"
      ]
     },
     "metadata": {
      "needs_background": "light"
     },
     "output_type": "display_data"
    }
   ],
   "source": [
    "plt.figure(figsize=(8, 6))\n",
    "plt.plot(np.arange(1, it + 1), err_arr[:it], '-*', c=\"#8b0a50\")\n",
    "plt.title(f\"CP-ALS(R={rank})\", fontsize=25)\n",
    "plt.xlabel(\"Epoch\", fontsize=21)\n",
    "plt.xticks(fontsize=14)\n",
    "plt.ylabel(\"Relative Error\", fontsize=21)\n",
    "plt.yticks(fontsize=14)\n",
    "plt.grid(True)"
   ]
  },
  {
   "cell_type": "markdown",
   "metadata": {},
   "source": [
    "### *NMF:*"
   ]
  },
  {
   "cell_type": "code",
   "execution_count": 7,
   "metadata": {},
   "outputs": [
    {
     "data": {
      "text/plain": [
       "((182, 50), (3000, 50), 188.3397569098527)"
      ]
     },
     "execution_count": 7,
     "metadata": {},
     "output_type": "execute_result"
    }
   ],
   "source": [
    "n_factors = rank\n",
    "\n",
    "nmf_model = NMF(\n",
    "    n_components=n_factors,\n",
    "    init='random',\n",
    "    tol=1e-8,\n",
    "    max_iter=100,#1000\n",
    "    alpha_W=0.01,#0.0001\n",
    "    l1_ratio=0.1,\n",
    "    random_state=13,\n",
    ")\n",
    "\n",
    "N1 = nmf_model.fit_transform(N)\n",
    "N2 = nmf_model.components_.T\n",
    "N1.shape, N2.shape, np.linalg.norm(N - (N1 @ N2.T))"
   ]
  },
  {
   "cell_type": "markdown",
   "metadata": {},
   "source": [
    "## Prepare the table:"
   ]
  },
  {
   "cell_type": "code",
   "execution_count": 8,
   "metadata": {},
   "outputs": [],
   "source": [
    "inds = [\"Random\", \"XGB_N1\", \"XGB_N\", \"XGB_T1\", \"XGB_T1_N1\", \"XGB_T1_N\", \"DNN_T1_N\"]\n",
    "cols = [\"Precision\", \"Recall\", \"F1_score\", \"Accuracy\"]\n",
    "buzz_table = pd.DataFrame(np.zeros((7, 4)), index=inds, columns=cols)"
   ]
  },
  {
   "cell_type": "markdown",
   "metadata": {},
   "source": [
    "## **XGBoost Classification:**"
   ]
  },
  {
   "cell_type": "markdown",
   "metadata": {},
   "source": [
    "### News-content NMF factorized(N1):"
   ]
  },
  {
   "cell_type": "code",
   "execution_count": 9,
   "metadata": {},
   "outputs": [
    {
     "name": "stdout",
     "output_type": "stream",
     "text": [
      "Precision: 0.8064516129032258;\n",
      "Recall: 0.7142857142857143;\n",
      "F1: 0.7575757575757576;\n",
      "Accuracy: 0.7377049180327869\n"
     ]
    }
   ],
   "source": [
    "x_train, x_test, y_train, y_test = train_test_split(N1, y_labels, test_size=0.33, random_state=42)\n",
    "\n",
    "xgb_model = xgb.XGBClassifier(objective=\"binary:logistic\", use_label_encoder=False, random_state=42, eval_metric=\"logloss\")\n",
    "xgb_model.fit(x_train, y_train)\n",
    "y_pred = xgb_model.predict(x_test)\n",
    "buzz_table.loc[\"XGB_N1\"] = print_scores(y_pred, y_test)"
   ]
  },
  {
   "cell_type": "markdown",
   "metadata": {},
   "source": [
    "### News-content full(N):"
   ]
  },
  {
   "cell_type": "code",
   "execution_count": 10,
   "metadata": {},
   "outputs": [
    {
     "name": "stdout",
     "output_type": "stream",
     "text": [
      "Precision: 0.7419354838709677;\n",
      "Recall: 0.7419354838709677;\n",
      "F1: 0.7419354838709677;\n",
      "Accuracy: 0.7377049180327869\n"
     ]
    }
   ],
   "source": [
    "x_train, x_test, y_train, y_test = train_test_split(N, y_labels, test_size=0.33, random_state=42)\n",
    "\n",
    "xgb_model = xgb.XGBClassifier(objective=\"binary:logistic\", use_label_encoder=False, random_state=42, eval_metric=\"logloss\")\n",
    "xgb_model.fit(x_train, y_train)\n",
    "y_pred = xgb_model.predict(x_test)\n",
    "buzz_table.loc[\"XGB_N\"] = print_scores(y_pred, y_test)"
   ]
  },
  {
   "cell_type": "markdown",
   "metadata": {},
   "source": [
    "### News-content CP factorized(T1):"
   ]
  },
  {
   "cell_type": "code",
   "execution_count": 11,
   "metadata": {},
   "outputs": [
    {
     "name": "stdout",
     "output_type": "stream",
     "text": [
      "Precision: 0.8387096774193549;\n",
      "Recall: 0.7428571428571429;\n",
      "F1: 0.787878787878788;\n",
      "Accuracy: 0.7704918032786885\n"
     ]
    }
   ],
   "source": [
    "x_train, x_test, y_train, y_test = train_test_split(a, y_labels, test_size=0.33, random_state=42)\n",
    "\n",
    "xgb_model = xgb.XGBClassifier(objective=\"binary:logistic\", use_label_encoder=False, random_state=42, eval_metric=\"logloss\")\n",
    "xgb_model.fit(x_train, y_train)\n",
    "y_pred = xgb_model.predict(x_test)\n",
    "buzz_table.loc[\"XGB_T1\"] = print_scores(y_pred, y_test)"
   ]
  },
  {
   "cell_type": "markdown",
   "metadata": {},
   "source": [
    "### News content CP and NMF factorized:"
   ]
  },
  {
   "cell_type": "code",
   "execution_count": 12,
   "metadata": {},
   "outputs": [
    {
     "name": "stdout",
     "output_type": "stream",
     "text": [
      "Precision: 0.8709677419354839;\n",
      "Recall: 0.7297297297297297;\n",
      "F1: 0.7941176470588235;\n",
      "Accuracy: 0.7704918032786885\n"
     ]
    }
   ],
   "source": [
    "x_train, x_test, y_train, y_test = train_test_split(np.concatenate([a, N1], axis=1), y_labels, test_size=0.33, random_state=42)\n",
    "\n",
    "xgb_model = xgb.XGBClassifier(objective=\"binary:logistic\", use_label_encoder=False, random_state=42, eval_metric=\"logloss\")\n",
    "xgb_model.fit(x_train, y_train)\n",
    "y_pred = xgb_model.predict(x_test)\n",
    "buzz_table.loc[\"XGB_T1_N1\"] = print_scores(y_pred, y_test)"
   ]
  },
  {
   "cell_type": "markdown",
   "metadata": {},
   "source": [
    "### News content CP factorized and News content full:"
   ]
  },
  {
   "cell_type": "code",
   "execution_count": 13,
   "metadata": {},
   "outputs": [
    {
     "name": "stdout",
     "output_type": "stream",
     "text": [
      "Precision: 0.8064516129032258;\n",
      "Recall: 0.7575757575757576;\n",
      "F1: 0.7812499999999999;\n",
      "Accuracy: 0.7704918032786885\n"
     ]
    }
   ],
   "source": [
    "x_train, x_test, y_train, y_test = train_test_split(np.concatenate([a, N.A], axis=1), y_labels, test_size=0.33, random_state=42)\n",
    "\n",
    "xgb_model = xgb.XGBClassifier(objective=\"binary:logistic\", use_label_encoder=False, random_state=42, eval_metric=\"logloss\")\n",
    "xgb_model.fit(x_train, y_train)\n",
    "y_pred = xgb_model.predict(x_test)\n",
    "buzz_table.loc[\"XGB_T1_N\"] = print_scores(y_pred, y_test)"
   ]
  },
  {
   "cell_type": "markdown",
   "metadata": {},
   "source": [
    "### Random baseline:"
   ]
  },
  {
   "cell_type": "code",
   "execution_count": 14,
   "metadata": {},
   "outputs": [
    {
     "name": "stdout",
     "output_type": "stream",
     "text": [
      "Precision: 0.6129032258064516;\n",
      "Recall: 0.59375;\n",
      "F1: 0.6031746031746031;\n",
      "Accuracy: 0.5901639344262295\n"
     ]
    }
   ],
   "source": [
    "y_pred = np.random.choice(2, size=(len(y_test)))\n",
    "buzz_table.loc[\"Random\"] = print_scores(y_pred, y_test)"
   ]
  },
  {
   "cell_type": "markdown",
   "metadata": {},
   "source": [
    "# DNN Classification:"
   ]
  },
  {
   "cell_type": "code",
   "execution_count": 15,
   "metadata": {},
   "outputs": [
    {
     "data": {
      "text/plain": [
       "<torch._C.Generator at 0x7f41c6e2ead0>"
      ]
     },
     "execution_count": 15,
     "metadata": {},
     "output_type": "execute_result"
    }
   ],
   "source": [
    "torch.manual_seed(13)"
   ]
  },
  {
   "cell_type": "code",
   "execution_count": 16,
   "metadata": {},
   "outputs": [],
   "source": [
    "# Define model\n",
    "class DNN(nn.Module):\n",
    "    def __init__(self, input_size=3050):\n",
    "        super(DNN, self).__init__()\n",
    "        self.dnn_stack = nn.Sequential(\n",
    "            nn.Linear(input_size, 128),\n",
    "            nn.LeakyReLU(0.1),\n",
    "            nn.Dropout(0.2),\n",
    "            nn.Linear(128, 128),\n",
    "            nn.LeakyReLU(0.1),\n",
    "            nn.Dropout(0),\n",
    "            nn.Linear(128, 32),\n",
    "            nn.LeakyReLU(0.1),\n",
    "            nn.Dropout(0.2),\n",
    "            nn.Linear(32, 2),\n",
    "            nn.Softmax(dim=-1)\n",
    "        )\n",
    "\n",
    "    def forward(self, x):\n",
    "        return self.dnn_stack(x)\n",
    "\n",
    "\n",
    "\n",
    "def train(dataloader, model, loss_fn, optimizer):\n",
    "    size = len(dataloader.dataset)\n",
    "    model.train()\n",
    "    for batch, (X, y) in enumerate(dataloader):\n",
    "        X, y = X.to(device), y.to(device)\n",
    "\n",
    "        # Compute prediction error\n",
    "        pred = model(X)\n",
    "        loss = loss_fn(pred, y)\n",
    "\n",
    "        # Backpropagation\n",
    "        optimizer.zero_grad()\n",
    "        loss.backward()\n",
    "        optimizer.step()\n",
    "\n",
    "        if batch % 100 == 0:\n",
    "            loss, current = loss.item(), batch * len(X)\n",
    "            print(f\"loss: {loss:>7f}  [{current:>5d}/{size:>5d}]\")\n",
    "\n",
    "def test(dataloader, model, loss_fn):\n",
    "    size = len(dataloader.dataset)\n",
    "    num_batches = len(dataloader)\n",
    "    model.eval()\n",
    "    test_loss, correct = 0, 0\n",
    "    with torch.no_grad():\n",
    "        for X, y in dataloader:\n",
    "            X, y = X.to(device), y.to(device)\n",
    "            pred = model(X)\n",
    "            test_loss += loss_fn(pred, y).item()\n",
    "            correct += (pred.argmax(1) == y).type(torch.float).sum().item()\n",
    "    test_loss /= num_batches\n",
    "    correct /= size\n",
    "    print(f\"Test Error: \\n Accuracy: {(100*correct):>0.1f}%, Avg loss: {test_loss:>8f} \\n\")\n",
    "\n",
    "class CustomDataset(Dataset):\n",
    "    def __init__(self, x, y):\n",
    "        self.x = x\n",
    "        self.y = y\n",
    "\n",
    "    def __len__(self):\n",
    "        return len(self.y)\n",
    "\n",
    "    def __getitem__(self, idx):\n",
    "        item_x, item_y = self.x[idx], self.y[idx]\n",
    "        return item_x, item_y"
   ]
  },
  {
   "cell_type": "code",
   "execution_count": 17,
   "metadata": {},
   "outputs": [
    {
     "name": "stdout",
     "output_type": "stream",
     "text": [
      "Epoch 1\n",
      "-------------------------------\n",
      "loss: 0.695536  [    0/  121]\n",
      "Test Error: \n",
      " Accuracy: 72.1%, Avg loss: 0.681032 \n",
      "\n",
      "Epoch 2\n",
      "-------------------------------\n",
      "loss: 0.667010  [    0/  121]\n",
      "Test Error: \n",
      " Accuracy: 72.1%, Avg loss: 0.658199 \n",
      "\n",
      "Epoch 3\n",
      "-------------------------------\n",
      "loss: 0.609191  [    0/  121]\n",
      "Test Error: \n",
      " Accuracy: 77.0%, Avg loss: 0.617142 \n",
      "\n",
      "Epoch 4\n",
      "-------------------------------\n",
      "loss: 0.538303  [    0/  121]\n",
      "Test Error: \n",
      " Accuracy: 83.6%, Avg loss: 0.570296 \n",
      "\n",
      "Epoch 5\n",
      "-------------------------------\n",
      "loss: 0.426001  [    0/  121]\n",
      "Test Error: \n",
      " Accuracy: 83.6%, Avg loss: 0.544039 \n",
      "\n",
      "Epoch 6\n",
      "-------------------------------\n",
      "loss: 0.354912  [    0/  121]\n",
      "Test Error: \n",
      " Accuracy: 83.6%, Avg loss: 0.513929 \n",
      "\n",
      "Epoch 7\n",
      "-------------------------------\n",
      "loss: 0.326663  [    0/  121]\n",
      "Test Error: \n",
      " Accuracy: 83.6%, Avg loss: 0.495606 \n",
      "\n",
      "Epoch 8\n",
      "-------------------------------\n",
      "loss: 0.320539  [    0/  121]\n",
      "Test Error: \n",
      " Accuracy: 86.9%, Avg loss: 0.490838 \n",
      "\n",
      "Done!\n"
     ]
    }
   ],
   "source": [
    "fmtx = np.concatenate([a, N.A], axis=1).astype(np.float32)\n",
    "\n",
    "x_train, x_test, y_train, y_test = train_test_split(fmtx, y_labels, test_size=0.33, random_state=42)\n",
    "\n",
    "batch_size = 32\n",
    "\n",
    "training_data = CustomDataset(x_train, y_train)\n",
    "test_data = CustomDataset(x_test, y_test)\n",
    "\n",
    "# Create data loaders:\n",
    "train_dataloader = DataLoader(training_data, batch_size=batch_size)\n",
    "test_dataloader = DataLoader(test_data, batch_size=batch_size)\n",
    "\n",
    "model = DNN(input_size=fmtx.shape[1]).to(device)\n",
    "\n",
    "loss_fn = nn.CrossEntropyLoss()\n",
    "optimizer = torch.optim.Adam(model.parameters(), lr=1e-3)\n",
    "\n",
    "epochs = 8\n",
    "for t in range(epochs):\n",
    "    print(f\"Epoch {t + 1}\\n-------------------------------\")\n",
    "    train(train_dataloader, model, loss_fn, optimizer)\n",
    "    test(test_dataloader, model, loss_fn)\n",
    "print(\"Done!\")"
   ]
  },
  {
   "cell_type": "code",
   "execution_count": 18,
   "metadata": {},
   "outputs": [
    {
     "name": "stdout",
     "output_type": "stream",
     "text": [
      "Precision: 0.8387096774193549;\n",
      "Recall: 0.896551724137931;\n",
      "F1: 0.8666666666666666;\n",
      "Accuracy: 0.8688524590163934\n"
     ]
    }
   ],
   "source": [
    "y_pred = np.array(model(torch.tensor(x_test).to(device)).argmax(axis=1).cpu())\n",
    "buzz_table.loc[\"DNN_T1_N\"] = print_scores(y_pred, y_test)"
   ]
  },
  {
   "cell_type": "code",
   "execution_count": 19,
   "metadata": {},
   "outputs": [
    {
     "data": {
      "text/html": [
       "<div>\n",
       "<style scoped>\n",
       "    .dataframe tbody tr th:only-of-type {\n",
       "        vertical-align: middle;\n",
       "    }\n",
       "\n",
       "    .dataframe tbody tr th {\n",
       "        vertical-align: top;\n",
       "    }\n",
       "\n",
       "    .dataframe thead th {\n",
       "        text-align: right;\n",
       "    }\n",
       "</style>\n",
       "<table border=\"1\" class=\"dataframe\">\n",
       "  <thead>\n",
       "    <tr style=\"text-align: right;\">\n",
       "      <th></th>\n",
       "      <th>Precision</th>\n",
       "      <th>Recall</th>\n",
       "      <th>F1_score</th>\n",
       "      <th>Accuracy</th>\n",
       "    </tr>\n",
       "  </thead>\n",
       "  <tbody>\n",
       "    <tr>\n",
       "      <th>Random</th>\n",
       "      <td>0.612903</td>\n",
       "      <td>0.593750</td>\n",
       "      <td>0.603175</td>\n",
       "      <td>0.590164</td>\n",
       "    </tr>\n",
       "    <tr>\n",
       "      <th>XGB_N1</th>\n",
       "      <td>0.806452</td>\n",
       "      <td>0.714286</td>\n",
       "      <td>0.757576</td>\n",
       "      <td>0.737705</td>\n",
       "    </tr>\n",
       "    <tr>\n",
       "      <th>XGB_N</th>\n",
       "      <td>0.741935</td>\n",
       "      <td>0.741935</td>\n",
       "      <td>0.741935</td>\n",
       "      <td>0.737705</td>\n",
       "    </tr>\n",
       "    <tr>\n",
       "      <th>XGB_T1</th>\n",
       "      <td>0.838710</td>\n",
       "      <td>0.742857</td>\n",
       "      <td>0.787879</td>\n",
       "      <td>0.770492</td>\n",
       "    </tr>\n",
       "    <tr>\n",
       "      <th>XGB_T1_N1</th>\n",
       "      <td>0.870968</td>\n",
       "      <td>0.729730</td>\n",
       "      <td>0.794118</td>\n",
       "      <td>0.770492</td>\n",
       "    </tr>\n",
       "    <tr>\n",
       "      <th>XGB_T1_N</th>\n",
       "      <td>0.806452</td>\n",
       "      <td>0.757576</td>\n",
       "      <td>0.781250</td>\n",
       "      <td>0.770492</td>\n",
       "    </tr>\n",
       "    <tr>\n",
       "      <th>DNN_T1_N</th>\n",
       "      <td>0.838710</td>\n",
       "      <td>0.896552</td>\n",
       "      <td>0.866667</td>\n",
       "      <td>0.868852</td>\n",
       "    </tr>\n",
       "  </tbody>\n",
       "</table>\n",
       "</div>"
      ],
      "text/plain": [
       "           Precision    Recall  F1_score  Accuracy\n",
       "Random      0.612903  0.593750  0.603175  0.590164\n",
       "XGB_N1      0.806452  0.714286  0.757576  0.737705\n",
       "XGB_N       0.741935  0.741935  0.741935  0.737705\n",
       "XGB_T1      0.838710  0.742857  0.787879  0.770492\n",
       "XGB_T1_N1   0.870968  0.729730  0.794118  0.770492\n",
       "XGB_T1_N    0.806452  0.757576  0.781250  0.770492\n",
       "DNN_T1_N    0.838710  0.896552  0.866667  0.868852"
      ]
     },
     "execution_count": 19,
     "metadata": {},
     "output_type": "execute_result"
    }
   ],
   "source": [
    "buzz_table"
   ]
  },
  {
   "cell_type": "markdown",
   "metadata": {},
   "source": [
    "# **PolitiFact Dataset:**"
   ]
  },
  {
   "cell_type": "markdown",
   "metadata": {},
   "source": [
    "## Load the data:"
   ]
  },
  {
   "cell_type": "code",
   "execution_count": 20,
   "metadata": {},
   "outputs": [],
   "source": [
    "N = load_npz('prep_data/N_pf.npz')\n",
    "U = load_npz('prep_data/U_pf.npz')\n",
    "C = load_npz('prep_data/C_pf.npz')\n",
    "y_labels = np.load('prep_data/labels_pf.npz')['arr_0']\n",
    "\n",
    "n_news, n_users, n_communities = *U.shape, C.shape[1]"
   ]
  },
  {
   "cell_type": "markdown",
   "metadata": {},
   "source": [
    "## Construct Tensor: News-User-Community:"
   ]
  },
  {
   "cell_type": "code",
   "execution_count": 21,
   "metadata": {},
   "outputs": [
    {
     "name": "stdout",
     "output_type": "stream",
     "text": [
      "KG shape (news_articles, users, communities): (240, 23865, 311);\n",
      "The number of nonzeros: 32791;\n"
     ]
    }
   ],
   "source": [
    "values, coords = construct_nuc_tensor(U, C)\n",
    "data_shape = n_news, n_users, n_communities\n",
    "print(f\"KG shape (news_articles, users, communities): {data_shape};\\nThe number of nonzeros: {values.shape[0]};\")"
   ]
  },
  {
   "cell_type": "markdown",
   "metadata": {},
   "source": [
    "## **CMTF Decomposition (divided):**"
   ]
  },
  {
   "cell_type": "markdown",
   "metadata": {},
   "source": [
    "### *CP Decomposition:*"
   ]
  },
  {
   "cell_type": "code",
   "execution_count": 22,
   "metadata": {},
   "outputs": [
    {
     "name": "stdout",
     "output_type": "stream",
     "text": [
      "Iter:  1 ; Error:  0.3535267174228669\n",
      "Iter:  2 ; Error:  0.042908204093114834\n",
      "Iter:  3 ; Error:  0.03737411517373359\n",
      "Iter:  4 ; Error:  0.03528851760453305\n",
      "Iter:  5 ; Error:  0.03409359062319818\n",
      "Iter:  6 ; Error:  0.03339418559065688\n",
      "Iter:  7 ; Error:  0.03294460715118692\n",
      "Iter:  8 ; Error:  0.03252864759529327\n",
      "Iter:  9 ; Error:  0.032086106538401306\n",
      "Iter:  10 ; Error:  0.03173784948767155\n",
      "iterations over\n",
      "Relative error = 0.03173784948767155, 0, 0, 0\n",
      "CPU times: user 21min 19s, sys: 50min 23s, total: 1h 11min 42s\n",
      "Wall time: 4min 44s\n"
     ]
    }
   ],
   "source": [
    "%%time\n",
    "\n",
    "max_iter = 10 \n",
    "rank = 50 \n",
    "l2 =  0.5\n",
    "lr = 1e-3\n",
    "seed = 13 \n",
    "\n",
    "a, b, c, err_arr, it = cp.cp_als3(\n",
    "    coords, values, data_shape,\n",
    "    rank=rank,\n",
    "    l2=l2,\n",
    "    max_iter=max_iter,\n",
    "    seed=seed,\n",
    "    show_iter=True,\n",
    "    it_over=True,\n",
    ")\n",
    "\n",
    "rerr = sqrt_err_relative(\n",
    "    coords, values, data_shape, a, b, c,\n",
    ")\n",
    "print(f\"Relative error = {rerr}, {(np.isnan(a)).sum()}, {(np.isnan(b)).sum()}, {(np.isnan(c)).sum()}\")"
   ]
  },
  {
   "cell_type": "code",
   "execution_count": 23,
   "metadata": {},
   "outputs": [
    {
     "data": {
      "image/png": "[encoded data removed]",
      "text/plain": [
       "<Figure size 576x432 with 1 Axes>"
      ]
     },
     "metadata": {
      "needs_background": "light"
     },
     "output_type": "display_data"
    }
   ],
   "source": [
    "plt.figure(figsize=(8, 6))\n",
    "plt.plot(np.arange(1, it + 1), err_arr[:it], '-*', c=\"#8b0a50\")\n",
    "plt.title(f\"CP-ALS(R={rank})\", fontsize=25)\n",
    "plt.xlabel(\"Epoch\", fontsize=21)\n",
    "plt.xticks(fontsize=14)\n",
    "plt.ylabel(\"Relative Error\", fontsize=21)\n",
    "plt.yticks(fontsize=14)\n",
    "plt.grid(True)"
   ]
  },
  {
   "cell_type": "markdown",
   "metadata": {},
   "source": [
    "### *NMF:*"
   ]
  },
  {
   "cell_type": "code",
   "execution_count": 24,
   "metadata": {},
   "outputs": [
    {
     "data": {
      "text/plain": [
       "((240, 50), (3000, 50), 441.872518397049)"
      ]
     },
     "execution_count": 24,
     "metadata": {},
     "output_type": "execute_result"
    }
   ],
   "source": [
    "n_factors = rank\n",
    "\n",
    "nmf_model = NMF(\n",
    "    n_components=n_factors,\n",
    "    init='random',\n",
    "    tol=1e-8,\n",
    "    max_iter=300,\n",
    "    alpha_W=0.1,\n",
    "    l1_ratio=0.001,\n",
    "    random_state=13,\n",
    ")\n",
    "\n",
    "N1 = nmf_model.fit_transform(N)\n",
    "N2 = nmf_model.components_.T\n",
    "N1.shape, N2.shape, np.linalg.norm(N - (N1 @ N2.T))"
   ]
  },
  {
   "cell_type": "markdown",
   "metadata": {},
   "source": [
    "## Prepare the table:"
   ]
  },
  {
   "cell_type": "code",
   "execution_count": 25,
   "metadata": {},
   "outputs": [],
   "source": [
    "inds = [\"Random\", \"XGB_N1\", \"XGB_N\", \"XGB_T1\", \"XGB_T1_N1\", \"XGB_T1_N\", \"DNN_T1_N\"]\n",
    "cols = [\"Precision\", \"Recall\", \"F1_score\", \"Accuracy\"]\n",
    "polit_table = pd.DataFrame(np.zeros((7, 4)), index=inds, columns=cols)"
   ]
  },
  {
   "cell_type": "markdown",
   "metadata": {},
   "source": [
    "## **XGBoost Classification:**"
   ]
  },
  {
   "cell_type": "markdown",
   "metadata": {},
   "source": [
    "### News-content NMF factorized(N1):"
   ]
  },
  {
   "cell_type": "code",
   "execution_count": 26,
   "metadata": {},
   "outputs": [
    {
     "name": "stdout",
     "output_type": "stream",
     "text": [
      "Precision: 0.3;\n",
      "Recall: 0.2608695652173913;\n",
      "F1: 0.27906976744186046;\n",
      "Accuracy: 0.225\n"
     ]
    }
   ],
   "source": [
    "x_train, x_test, y_train, y_test = train_test_split(N1, y_labels, test_size=0.33, random_state=42)\n",
    "\n",
    "xgb_model = xgb.XGBClassifier(\n",
    "    n_estimators=800,\n",
    "    max_depth=9,\n",
    "    objective=\"binary:logistic\",\n",
    "    use_label_encoder=False,\n",
    "    random_state=42,\n",
    "    eval_metric=\"logloss\",\n",
    ")\n",
    "xgb_model.fit(x_train, y_train)\n",
    "y_pred = xgb_model.predict(x_test)\n",
    "polit_table.loc[\"XGB_N1\"] = print_scores(y_pred, y_test)"
   ]
  },
  {
   "cell_type": "markdown",
   "metadata": {},
   "source": [
    "### News-content full(N):"
   ]
  },
  {
   "cell_type": "code",
   "execution_count": 27,
   "metadata": {},
   "outputs": [
    {
     "name": "stdout",
     "output_type": "stream",
     "text": [
      "Precision: 0.275;\n",
      "Recall: 0.25;\n",
      "F1: 0.2619047619047619;\n",
      "Accuracy: 0.225\n"
     ]
    }
   ],
   "source": [
    "x_train, x_test, y_train, y_test = train_test_split(N, y_labels, test_size=0.33, random_state=42)\n",
    "\n",
    "xgb_model = xgb.XGBClassifier(\n",
    "    n_estimators=400,\n",
    "    max_depth=9,\n",
    "    objective=\"binary:logistic\",\n",
    "    use_label_encoder=False,\n",
    "    random_state=42,\n",
    "    eval_metric=\"logloss\",\n",
    ")\n",
    "xgb_model.fit(x_train, y_train)\n",
    "y_pred = xgb_model.predict(x_test)\n",
    "polit_table.loc[\"XGB_N\"] = print_scores(y_pred, y_test)"
   ]
  },
  {
   "cell_type": "markdown",
   "metadata": {},
   "source": [
    "### News-content CP factorized(T1):"
   ]
  },
  {
   "cell_type": "code",
   "execution_count": 28,
   "metadata": {},
   "outputs": [
    {
     "name": "stdout",
     "output_type": "stream",
     "text": [
      "Precision: 0.825;\n",
      "Recall: 0.868421052631579;\n",
      "F1: 0.8461538461538461;\n",
      "Accuracy: 0.85\n"
     ]
    }
   ],
   "source": [
    "x_train, x_test, y_train, y_test = train_test_split(a, y_labels, test_size=0.33, random_state=42)\n",
    "\n",
    "xgb_model = xgb.XGBClassifier(\n",
    "    n_estimators=400,\n",
    "    max_depth=9, \n",
    "    objective=\"binary:logistic\",\n",
    "    use_label_encoder=False,\n",
    "    random_state=42,\n",
    "    eval_metric=\"logloss\",\n",
    ")\n",
    "xgb_model.fit(x_train, y_train)\n",
    "y_pred = xgb_model.predict(x_test)\n",
    "polit_table.loc[\"XGB_T1\"] = print_scores(y_pred, y_test)"
   ]
  },
  {
   "cell_type": "markdown",
   "metadata": {},
   "source": [
    "### News content CP and NMF factorized:"
   ]
  },
  {
   "cell_type": "code",
   "execution_count": 29,
   "metadata": {},
   "outputs": [
    {
     "name": "stdout",
     "output_type": "stream",
     "text": [
      "Precision: 0.75;\n",
      "Recall: 0.8333333333333334;\n",
      "F1: 0.7894736842105262;\n",
      "Accuracy: 0.8\n"
     ]
    }
   ],
   "source": [
    "x_train, x_test, y_train, y_test = train_test_split(np.concatenate([a, N1], axis=1), y_labels, test_size=0.33, random_state=42)\n",
    "\n",
    "xgb_model = xgb.XGBClassifier(\n",
    "    n_estimators=100,#400,\n",
    "    max_depth=4,#9, \n",
    "    objective=\"binary:logistic\",\n",
    "    use_label_encoder=False,\n",
    "    random_state=42,\n",
    "    eval_metric=\"logloss\",\n",
    ")\n",
    "xgb_model.fit(x_train, y_train)\n",
    "y_pred = xgb_model.predict(x_test)\n",
    "polit_table.loc[\"XGB_T1_N1\"] = print_scores(y_pred, y_test)"
   ]
  },
  {
   "cell_type": "markdown",
   "metadata": {},
   "source": [
    "### News content CP factorized and News content full:"
   ]
  },
  {
   "cell_type": "code",
   "execution_count": 30,
   "metadata": {},
   "outputs": [
    {
     "name": "stdout",
     "output_type": "stream",
     "text": [
      "Precision: 0.775;\n",
      "Recall: 0.8157894736842105;\n",
      "F1: 0.7948717948717949;\n",
      "Accuracy: 0.8\n"
     ]
    }
   ],
   "source": [
    "x_train, x_test, y_train, y_test = train_test_split(np.concatenate([a, N.A], axis=1), y_labels, test_size=0.33, random_state=42)\n",
    "\n",
    "xgb_model = xgb.XGBClassifier(\n",
    "    n_estimators=400,\n",
    "    max_depth=7,\n",
    "    objective=\"binary:logistic\",\n",
    "    use_label_encoder=False,\n",
    "    random_state=42,\n",
    "    eval_metric=\"logloss\",\n",
    ")\n",
    "xgb_model.fit(x_train, y_train)\n",
    "y_pred = xgb_model.predict(x_test)\n",
    "polit_table.loc[\"XGB_T1_N\"] = print_scores(y_pred, y_test)"
   ]
  },
  {
   "cell_type": "markdown",
   "metadata": {},
   "source": [
    "### Random baseline:"
   ]
  },
  {
   "cell_type": "code",
   "execution_count": 31,
   "metadata": {},
   "outputs": [
    {
     "name": "stdout",
     "output_type": "stream",
     "text": [
      "Precision: 0.425;\n",
      "Recall: 0.4594594594594595;\n",
      "F1: 0.44155844155844154;\n",
      "Accuracy: 0.4625\n"
     ]
    }
   ],
   "source": [
    "y_pred = np.random.choice(2, size=(len(y_test)))\n",
    "polit_table.loc[\"Random\"] = print_scores(y_pred, y_test)"
   ]
  },
  {
   "cell_type": "markdown",
   "metadata": {},
   "source": [
    "# DNN Classification:"
   ]
  },
  {
   "cell_type": "code",
   "execution_count": 32,
   "metadata": {},
   "outputs": [
    {
     "data": {
      "text/plain": [
       "<torch._C.Generator at 0x7f41c6e2ead0>"
      ]
     },
     "execution_count": 32,
     "metadata": {},
     "output_type": "execute_result"
    }
   ],
   "source": [
    "torch.manual_seed(0)"
   ]
  },
  {
   "cell_type": "code",
   "execution_count": 33,
   "metadata": {},
   "outputs": [
    {
     "name": "stdout",
     "output_type": "stream",
     "text": [
      "Epoch 1\n",
      "-------------------------------\n",
      "loss: 0.689948  [    0/  160]\n",
      "Test Error: \n",
      " Accuracy: 38.8%, Avg loss: 0.703047 \n",
      "\n",
      "Epoch 2\n",
      "-------------------------------\n",
      "loss: 0.679779  [    0/  160]\n",
      "Test Error: \n",
      " Accuracy: 33.8%, Avg loss: 0.721424 \n",
      "\n",
      "Epoch 3\n",
      "-------------------------------\n",
      "loss: 0.679509  [    0/  160]\n",
      "Test Error: \n",
      " Accuracy: 27.5%, Avg loss: 0.749115 \n",
      "\n",
      "Epoch 4\n",
      "-------------------------------\n",
      "loss: 0.676668  [    0/  160]\n",
      "Test Error: \n",
      " Accuracy: 26.2%, Avg loss: 0.786750 \n",
      "\n",
      "Epoch 5\n",
      "-------------------------------\n",
      "loss: 0.677966  [    0/  160]\n",
      "Test Error: \n",
      " Accuracy: 26.2%, Avg loss: 0.828780 \n",
      "\n",
      "Epoch 6\n",
      "-------------------------------\n",
      "loss: 0.651564  [    0/  160]\n",
      "Test Error: \n",
      " Accuracy: 25.0%, Avg loss: 0.869574 \n",
      "\n",
      "Epoch 7\n",
      "-------------------------------\n",
      "loss: 0.666253  [    0/  160]\n",
      "Test Error: \n",
      " Accuracy: 23.8%, Avg loss: 0.908433 \n",
      "\n",
      "Epoch 8\n",
      "-------------------------------\n",
      "loss: 0.642872  [    0/  160]\n",
      "Test Error: \n",
      " Accuracy: 22.5%, Avg loss: 0.941489 \n",
      "\n",
      "Epoch 9\n",
      "-------------------------------\n",
      "loss: 0.638252  [    0/  160]\n",
      "Test Error: \n",
      " Accuracy: 23.8%, Avg loss: 0.968826 \n",
      "\n",
      "Epoch 10\n",
      "-------------------------------\n",
      "loss: 0.628013  [    0/  160]\n",
      "Test Error: \n",
      " Accuracy: 22.5%, Avg loss: 0.984804 \n",
      "\n",
      "Done!\n"
     ]
    }
   ],
   "source": [
    "fmtx = np.concatenate([a, N.A], axis=1).astype(np.float32)\n",
    "\n",
    "x_train, x_test, y_train, y_test = train_test_split(fmtx, y_labels, test_size=0.33, random_state=42)\n",
    "\n",
    "batch_size = 32\n",
    "\n",
    "training_data = CustomDataset(x_train, y_train)\n",
    "test_data = CustomDataset(x_test, y_test)\n",
    "\n",
    "# Create data loaders:\n",
    "train_dataloader = DataLoader(training_data, batch_size=batch_size)\n",
    "test_dataloader = DataLoader(test_data, batch_size=batch_size)\n",
    "\n",
    "model = DNN(input_size=fmtx.shape[1]).to(device)\n",
    "\n",
    "loss_fn = nn.CrossEntropyLoss()\n",
    "optimizer = torch.optim.Adam(model.parameters(), lr=1e-3)\n",
    "\n",
    "epochs = 10\n",
    "for t in range(epochs):\n",
    "    print(f\"Epoch {t + 1}\\n-------------------------------\")\n",
    "    train(train_dataloader, model, loss_fn, optimizer)\n",
    "    test(test_dataloader, model, loss_fn)\n",
    "print(\"Done!\")"
   ]
  },
  {
   "cell_type": "code",
   "execution_count": 34,
   "metadata": {},
   "outputs": [
    {
     "name": "stdout",
     "output_type": "stream",
     "text": [
      "Precision: 0.2;\n",
      "Recall: 0.21052631578947367;\n",
      "F1: 0.20512820512820512;\n",
      "Accuracy: 0.225\n"
     ]
    }
   ],
   "source": [
    "y_pred = np.array(model(torch.tensor(x_test).to(device)).argmax(axis=1).cpu())\n",
    "polit_table.loc[\"DNN_T1_N\"] = print_scores(y_pred, y_test)"
   ]
  },
  {
   "cell_type": "code",
   "execution_count": 35,
   "metadata": {},
   "outputs": [
    {
     "data": {
      "text/html": [
       "<div>\n",
       "<style scoped>\n",
       "    .dataframe tbody tr th:only-of-type {\n",
       "        vertical-align: middle;\n",
       "    }\n",
       "\n",
       "    .dataframe tbody tr th {\n",
       "        vertical-align: top;\n",
       "    }\n",
       "\n",
       "    .dataframe thead th {\n",
       "        text-align: right;\n",
       "    }\n",
       "</style>\n",
       "<table border=\"1\" class=\"dataframe\">\n",
       "  <thead>\n",
       "    <tr style=\"text-align: right;\">\n",
       "      <th></th>\n",
       "      <th>Precision</th>\n",
       "      <th>Recall</th>\n",
       "      <th>F1_score</th>\n",
       "      <th>Accuracy</th>\n",
       "    </tr>\n",
       "  </thead>\n",
       "  <tbody>\n",
       "    <tr>\n",
       "      <th>Random</th>\n",
       "      <td>0.425</td>\n",
       "      <td>0.459459</td>\n",
       "      <td>0.441558</td>\n",
       "      <td>0.4625</td>\n",
       "    </tr>\n",
       "    <tr>\n",
       "      <th>XGB_N1</th>\n",
       "      <td>0.300</td>\n",
       "      <td>0.260870</td>\n",
       "      <td>0.279070</td>\n",
       "      <td>0.2250</td>\n",
       "    </tr>\n",
       "    <tr>\n",
       "      <th>XGB_N</th>\n",
       "      <td>0.275</td>\n",
       "      <td>0.250000</td>\n",
       "      <td>0.261905</td>\n",
       "      <td>0.2250</td>\n",
       "    </tr>\n",
       "    <tr>\n",
       "      <th>XGB_T1</th>\n",
       "      <td>0.825</td>\n",
       "      <td>0.868421</td>\n",
       "      <td>0.846154</td>\n",
       "      <td>0.8500</td>\n",
       "    </tr>\n",
       "    <tr>\n",
       "      <th>XGB_T1_N1</th>\n",
       "      <td>0.750</td>\n",
       "      <td>0.833333</td>\n",
       "      <td>0.789474</td>\n",
       "      <td>0.8000</td>\n",
       "    </tr>\n",
       "    <tr>\n",
       "      <th>XGB_T1_N</th>\n",
       "      <td>0.775</td>\n",
       "      <td>0.815789</td>\n",
       "      <td>0.794872</td>\n",
       "      <td>0.8000</td>\n",
       "    </tr>\n",
       "    <tr>\n",
       "      <th>DNN_T1_N</th>\n",
       "      <td>0.200</td>\n",
       "      <td>0.210526</td>\n",
       "      <td>0.205128</td>\n",
       "      <td>0.2250</td>\n",
       "    </tr>\n",
       "  </tbody>\n",
       "</table>\n",
       "</div>"
      ],
      "text/plain": [
       "           Precision    Recall  F1_score  Accuracy\n",
       "Random         0.425  0.459459  0.441558    0.4625\n",
       "XGB_N1         0.300  0.260870  0.279070    0.2250\n",
       "XGB_N          0.275  0.250000  0.261905    0.2250\n",
       "XGB_T1         0.825  0.868421  0.846154    0.8500\n",
       "XGB_T1_N1      0.750  0.833333  0.789474    0.8000\n",
       "XGB_T1_N       0.775  0.815789  0.794872    0.8000\n",
       "DNN_T1_N       0.200  0.210526  0.205128    0.2250"
      ]
     },
     "execution_count": 35,
     "metadata": {},
     "output_type": "execute_result"
    }
   ],
   "source": [
    "polit_table"
   ]
  },
  {
   "cell_type": "code",
   "execution_count": 36,
   "metadata": {},
   "outputs": [
    {
     "data": {
      "text/html": [
       "<div>\n",
       "<style scoped>\n",
       "    .dataframe tbody tr th:only-of-type {\n",
       "        vertical-align: middle;\n",
       "    }\n",
       "\n",
       "    .dataframe tbody tr th {\n",
       "        vertical-align: top;\n",
       "    }\n",
       "\n",
       "    .dataframe thead th {\n",
       "        text-align: right;\n",
       "    }\n",
       "</style>\n",
       "<table border=\"1\" class=\"dataframe\">\n",
       "  <thead>\n",
       "    <tr style=\"text-align: right;\">\n",
       "      <th></th>\n",
       "      <th>Precision</th>\n",
       "      <th>Recall</th>\n",
       "      <th>F1_score</th>\n",
       "      <th>Accuracy</th>\n",
       "    </tr>\n",
       "  </thead>\n",
       "  <tbody>\n",
       "    <tr>\n",
       "      <th>Random</th>\n",
       "      <td>0.612903</td>\n",
       "      <td>0.593750</td>\n",
       "      <td>0.603175</td>\n",
       "      <td>0.590164</td>\n",
       "    </tr>\n",
       "    <tr>\n",
       "      <th>XGB_N1</th>\n",
       "      <td>0.806452</td>\n",
       "      <td>0.714286</td>\n",
       "      <td>0.757576</td>\n",
       "      <td>0.737705</td>\n",
       "    </tr>\n",
       "    <tr>\n",
       "      <th>XGB_N</th>\n",
       "      <td>0.741935</td>\n",
       "      <td>0.741935</td>\n",
       "      <td>0.741935</td>\n",
       "      <td>0.737705</td>\n",
       "    </tr>\n",
       "    <tr>\n",
       "      <th>XGB_T1</th>\n",
       "      <td>0.838710</td>\n",
       "      <td>0.742857</td>\n",
       "      <td>0.787879</td>\n",
       "      <td>0.770492</td>\n",
       "    </tr>\n",
       "    <tr>\n",
       "      <th>XGB_T1_N1</th>\n",
       "      <td>0.870968</td>\n",
       "      <td>0.729730</td>\n",
       "      <td>0.794118</td>\n",
       "      <td>0.770492</td>\n",
       "    </tr>\n",
       "    <tr>\n",
       "      <th>XGB_T1_N</th>\n",
       "      <td>0.806452</td>\n",
       "      <td>0.757576</td>\n",
       "      <td>0.781250</td>\n",
       "      <td>0.770492</td>\n",
       "    </tr>\n",
       "    <tr>\n",
       "      <th>DNN_T1_N</th>\n",
       "      <td>0.838710</td>\n",
       "      <td>0.896552</td>\n",
       "      <td>0.866667</td>\n",
       "      <td>0.868852</td>\n",
       "    </tr>\n",
       "  </tbody>\n",
       "</table>\n",
       "</div>"
      ],
      "text/plain": [
       "           Precision    Recall  F1_score  Accuracy\n",
       "Random      0.612903  0.593750  0.603175  0.590164\n",
       "XGB_N1      0.806452  0.714286  0.757576  0.737705\n",
       "XGB_N       0.741935  0.741935  0.741935  0.737705\n",
       "XGB_T1      0.838710  0.742857  0.787879  0.770492\n",
       "XGB_T1_N1   0.870968  0.729730  0.794118  0.770492\n",
       "XGB_T1_N    0.806452  0.757576  0.781250  0.770492\n",
       "DNN_T1_N    0.838710  0.896552  0.866667  0.868852"
      ]
     },
     "execution_count": 36,
     "metadata": {},
     "output_type": "execute_result"
    }
   ],
   "source": [
    "buzz_table"
   ]
  }
 ],
 "metadata": {
  "interpreter": {
   "hash": "916dbcbb3f70747c44a77c7bcd40155683ae19c65e1c03b4aa3499c5328201f1"
  },
  "kernelspec": {
   "display_name": "Python 3.9.5 64-bit",
   "language": "python",
   "name": "python3"
  },
  "language_info": {
   "codemirror_mode": {
    "name": "ipython",
    "version": 3
   },
   "file_extension": ".py",
   "mimetype": "text/x-python",
   "name": "python",
   "nbconvert_exporter": "python",
   "pygments_lexer": "ipython3",
   "version": "3.9.5"
  },
  "orig_nbformat": 4
 },
 "nbformat": 4,
 "nbformat_minor": 2
}
