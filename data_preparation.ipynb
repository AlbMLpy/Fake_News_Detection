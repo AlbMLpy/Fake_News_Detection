{
 "cells": [
  {
   "cell_type": "code",
   "execution_count": 2,
   "metadata": {},
   "outputs": [],
   "source": [
    "import re\n",
    "\n",
    "import numpy as np\n",
    "from scipy.sparse import csr_matrix, save_npz\n",
    "from sklearn.feature_extraction.text import CountVectorizer\n",
    "import pandas as pd\n",
    "\n",
    "from networkx.algorithms.community import greedy_modularity_communities\n",
    "import networkx as nx\n",
    "\n",
    "import nltk\n",
    "import string \n",
    "from nltk.corpus import wordnet\n",
    "from nltk.stem import WordNetLemmatizer\n",
    "\n",
    "import warnings\n",
    "warnings.filterwarnings('ignore')"
   ]
  },
  {
   "cell_type": "markdown",
   "metadata": {},
   "source": [
    "# About the raw data:\n",
    "\n",
    "### You can get it from here:\n",
    "*https://www.kaggle.com/mdepak/fakenewsnet?select=BuzzFeedUserUser.txt*\n",
    "\n",
    "### Then unzip it and put to the \"Data/\" folder"
   ]
  },
  {
   "cell_type": "markdown",
   "metadata": {},
   "source": [
    "# BuzFeedNews:"
   ]
  },
  {
   "cell_type": "markdown",
   "metadata": {},
   "source": [
    "## News-User Engagement Matrix:"
   ]
  },
  {
   "cell_type": "code",
   "execution_count": 3,
   "metadata": {},
   "outputs": [
    {
     "name": "stdout",
     "output_type": "stream",
     "text": [
      "(182, 15257)\n"
     ]
    }
   ],
   "source": [
    "row = []\n",
    "col = []\n",
    "val = []\n",
    "with open(\"Data/BuzzFeedNewsUser.txt\", \"r\") as f:\n",
    "    while d := f.readline():\n",
    "        triple = [int(i) for i in d.split()]\n",
    "        row.append(triple[0] - 1)\n",
    "        col.append(triple[1] - 1)\n",
    "        val.append(triple[2])\n",
    "\n",
    "U = csr_matrix((val, (row, col))) # news-user mtx\n",
    "print(U.shape)\n",
    "save_npz('prep_data/U_bf.npz', U)"
   ]
  },
  {
   "cell_type": "markdown",
   "metadata": {},
   "source": [
    "## N-Gram Count Matrix:"
   ]
  },
  {
   "cell_type": "code",
   "execution_count": 5,
   "metadata": {},
   "outputs": [],
   "source": [
    "def get_wordnet_pos(word):\n",
    "    \"\"\"Map POS tag to first character lemmatize() accepts\"\"\"\n",
    "    tag = nltk.pos_tag([word])[0][1][0].upper()\n",
    "    tag_dict = {\"J\": wordnet.ADJ,\n",
    "                \"N\": wordnet.NOUN,\n",
    "                \"V\": wordnet.VERB,\n",
    "                \"R\": wordnet.ADV}\n",
    "\n",
    "    return tag_dict.get(tag, wordnet.NOUN)\n",
    "\n",
    "def preproc(text):\n",
    "    no_digits = re.sub('[0-9]+', '', text.lower())\n",
    "    lemmatizer = WordNetLemmatizer()\n",
    "    return \" \".join([lemmatizer.lemmatize(w, get_wordnet_pos(w)) for w in nltk.word_tokenize(no_digits) if w not in string.punctuation])\n"
   ]
  },
  {
   "cell_type": "code",
   "execution_count": 6,
   "metadata": {},
   "outputs": [],
   "source": [
    "fake_content = pd.read_csv(\"Data/BuzzFeed_fake_news_content.csv\")\n",
    "real_content = pd.read_csv(\"Data/BuzzFeed_real_news_content.csv\")\n",
    "content = pd.concat([real_content[\"text\"], fake_content[\"text\"]], ignore_index=True)\n",
    "\n",
    "vectorizer = CountVectorizer(preprocessor=preproc, stop_words=\"english\", ngram_range=(1, 2), max_features=3000)\n",
    "N = vectorizer.fit_transform(content)\n",
    "\n",
    "save_npz('prep_data/N_bf.npz', N)"
   ]
  },
  {
   "cell_type": "markdown",
   "metadata": {},
   "source": [
    "## Labels:"
   ]
  },
  {
   "cell_type": "code",
   "execution_count": 10,
   "metadata": {},
   "outputs": [],
   "source": [
    "n_news, _ = N.shape\n",
    "y_labels = np.array([0]*(n_news // 2) + [1]*(n_news // 2))\n",
    "np.savez('prep_data/labels_bf.npz', y_labels)"
   ]
  },
  {
   "cell_type": "markdown",
   "metadata": {},
   "source": [
    "## User-Community Matrix:"
   ]
  },
  {
   "cell_type": "code",
   "execution_count": null,
   "metadata": {},
   "outputs": [],
   "source": [
    "row = []\n",
    "col = []\n",
    "val = []\n",
    "with open(\"Data/BuzzFeedUserUser.txt\", \"r\") as f:\n",
    "    while d := f.readline():\n",
    "        triple = [int(i) for i in d.split()]\n",
    "        row.append(triple[0] - 1)\n",
    "        col.append(triple[1] - 1)\n",
    "        val.append(1)\n",
    "\n",
    "C0 = csr_matrix((val, (row, col))) # user-user mtx\n",
    "\n",
    "G = nx.from_scipy_sparse_matrix(C0)\n",
    "communities = greedy_modularity_communities(G)\n",
    "\n",
    "row = []\n",
    "col = []\n",
    "val = []\n",
    "\n",
    "for i, cc in enumerate(communities):\n",
    "    users = list(cc)\n",
    "    row.extend(users)\n",
    "    val.extend([1]*len(users))\n",
    "    col.extend([i]*len(users))\n",
    "\n",
    "C = csr_matrix((val, (row, col)))\n",
    "\n",
    "save_npz('prep_data/C_bf.npz', C)"
   ]
  },
  {
   "cell_type": "markdown",
   "metadata": {},
   "source": [
    "# PolitiFact:"
   ]
  },
  {
   "cell_type": "markdown",
   "metadata": {},
   "source": [
    "## News-User Engagement Matrix:"
   ]
  },
  {
   "cell_type": "code",
   "execution_count": 11,
   "metadata": {},
   "outputs": [
    {
     "name": "stdout",
     "output_type": "stream",
     "text": [
      "(240, 23865)\n"
     ]
    }
   ],
   "source": [
    "row = []\n",
    "col = []\n",
    "val = []\n",
    "with open(\"Data/PolitiFactNewsUser.txt\", \"r\") as f:\n",
    "    while d := f.readline():\n",
    "        triple = [int(i) for i in d.split()]\n",
    "        row.append(triple[0] - 1)\n",
    "        col.append(triple[1] - 1)\n",
    "        val.append(triple[2])\n",
    "\n",
    "U = csr_matrix((val, (row, col))) # news-user mtx\n",
    "print(U.shape)\n",
    "save_npz('prep_data/U_pf.npz', U)"
   ]
  },
  {
   "cell_type": "markdown",
   "metadata": {},
   "source": [
    "## N-Gram Count Matrix:"
   ]
  },
  {
   "cell_type": "code",
   "execution_count": 12,
   "metadata": {},
   "outputs": [],
   "source": [
    "fake_content = pd.read_csv(\"Data/PolitiFact_fake_news_content.csv\")\n",
    "real_content = pd.read_csv(\"Data/PolitiFact_real_news_content.csv\")\n",
    "content = pd.concat([real_content[\"text\"], fake_content[\"text\"]], ignore_index=True)\n",
    "\n",
    "vectorizer = CountVectorizer(preprocessor=preproc, stop_words=\"english\", ngram_range=(1, 2), max_features=3000)\n",
    "N = vectorizer.fit_transform(content)\n",
    "\n",
    "save_npz('prep_data/N_pf.npz', N)"
   ]
  },
  {
   "cell_type": "markdown",
   "metadata": {},
   "source": [
    "## Labels:"
   ]
  },
  {
   "cell_type": "code",
   "execution_count": 16,
   "metadata": {},
   "outputs": [],
   "source": [
    "n_news, _ = N.shape\n",
    "y_labels = np.array([0]*(n_news // 2) + [1]*(n_news // 2))\n",
    "np.savez('prep_data/labels_pf.npz', y_labels)"
   ]
  },
  {
   "cell_type": "markdown",
   "metadata": {},
   "source": [
    "## User-Community Matrix:"
   ]
  },
  {
   "cell_type": "code",
   "execution_count": 17,
   "metadata": {},
   "outputs": [],
   "source": [
    "row = []\n",
    "col = []\n",
    "val = []\n",
    "with open(\"Data/PolitiFactUserUser.txt\", \"r\") as f:\n",
    "    while d := f.readline():\n",
    "        triple = [int(i) for i in d.split()]\n",
    "        row.append(triple[0] - 1)\n",
    "        col.append(triple[1] - 1)\n",
    "        val.append(1)\n",
    "\n",
    "C0 = csr_matrix((val, (row, col))) # user-user mtx\n",
    "\n",
    "G = nx.from_scipy_sparse_matrix(C0)\n",
    "communities = greedy_modularity_communities(G)\n",
    "\n",
    "row = []\n",
    "col = []\n",
    "val = []\n",
    "\n",
    "for i, cc in enumerate(communities):\n",
    "    users = list(cc)\n",
    "    row.extend(users)\n",
    "    val.extend([1]*len(users))\n",
    "    col.extend([i]*len(users))\n",
    "\n",
    "C = csr_matrix((val, (row, col)))\n",
    "\n",
    "save_npz('prep_data/C_pf.npz', C)"
   ]
  }
 ],
 "metadata": {
  "interpreter": {
   "hash": "34002bb53b7508659aadbc48d2690eaa0fedfc1e7a06e0392af55e4acdbf6811"
  },
  "kernelspec": {
   "display_name": "Python 3.10.0 64-bit ('snlp': conda)",
   "language": "python",
   "name": "python3"
  },
  "language_info": {
   "codemirror_mode": {
    "name": "ipython",
    "version": 3
   },
   "file_extension": ".py",
   "mimetype": "text/x-python",
   "name": "python",
   "nbconvert_exporter": "python",
   "pygments_lexer": "ipython3",
   "version": "3.10.0"
  },
  "orig_nbformat": 4
 },
 "nbformat": 4,
 "nbformat_minor": 2
}
